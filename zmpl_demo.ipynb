{
 "cells": [
  {
   "cell_type": "markdown",
   "metadata": {},
   "source": [
    "# zmpl demo\n",
    "\n",
    "This notebook shows how to use zmpl to use matplotlib plotting functionality out of process. This can be useful when you need to interactively visualize data for example when debugging code within some IDE that does not support using matplotlib from the Debug REPL, e.g. [PTVS](https://github.com/Microsoft/PTVS)."
   ]
  },
  {
   "cell_type": "code",
   "execution_count": 2,
   "metadata": {
    "collapsed": false
   },
   "outputs": [
    {
     "name": "stdout",
     "output_type": "stream",
     "text": [
      "auto_draw is ON\n"
     ]
    }
   ],
   "source": [
    "import numpy as np\n",
    "import zmpl\n",
    "# change this if you want to start the server manually (for debugging)\n",
    "# zmpl.options['server_auto_start'] = False\n",
    "from zmpl import pyplot as zplt\n",
    "print('auto_draw is {}'.format('ON' if zplt.auto_draw() else 'OFF'))"
   ]
  },
  {
   "cell_type": "markdown",
   "metadata": {},
   "source": [
    "We start by a simple hello world. This code plots the numbers $[0, 10)$ and adds a title `Hello zmpl`. Notice you don't need to call `zmpl.show` to see the results."
   ]
  },
  {
   "cell_type": "code",
   "execution_count": 3,
   "metadata": {
    "collapsed": false
   },
   "outputs": [
    {
     "data": {
      "text/plain": [
       "<zmpl.pyplot.Text at 0x7c81860>"
      ]
     },
     "execution_count": 3,
     "metadata": {},
     "output_type": "execute_result"
    }
   ],
   "source": [
    "zplt.clf()\n",
    "zplt.plot(range(10))\n",
    "zplt.title('Hello zmpl!')"
   ]
  },
  {
   "cell_type": "markdown",
   "metadata": {},
   "source": [
    "Now we can acheive some interactivity very simply without using the `ion` and `pause` functions. This code will generate a random image of 100 by 100 pixels and displays them using `imshow`."
   ]
  },
  {
   "cell_type": "code",
   "execution_count": 5,
   "metadata": {
    "collapsed": false
   },
   "outputs": [],
   "source": [
    "# disable auto draw\n",
    "zplt.auto_draw(False)\n",
    "for i in range(10):\n",
    "    zplt.clf()\n",
    "    data = np.random.random((100, 100, 3))\n",
    "    zplt.hold(True)\n",
    "    zplt.imshow(data)\n",
    "    zplt.plot(range(25, 76), range(25, 76), 'k-', linewidth=2.0)\n",
    "    zplt.axis('square')\n",
    "    zplt.axis('tight')\n",
    "    zplt.hold(False)\n",
    "    zpl"
   ]
  },
  {
   "cell_type": "markdown",
   "metadata": {
    "collapsed": false
   },
   "source": [
    "We can also use some module objects like figure and axes"
   ]
  },
  {
   "cell_type": "code",
   "execution_count": 8,
   "metadata": {
    "collapsed": false
   },
   "outputs": [
    {
     "data": {
      "text/plain": [
       "<zmpl.pyplot.Text at 0x7d90eb8>"
      ]
     },
     "execution_count": 8,
     "metadata": {},
     "output_type": "execute_result"
    }
   ],
   "source": [
    "# enable auto draw\n",
    "zplt.auto_draw(True)\n",
    "f1 = zplt.figure(1)\n",
    "ax1 = f1.add_subplot(111)\n",
    "ax1.plot(range(10), 'g-')\n",
    "zplt.title('Figure 1')\n",
    "f2 = zplt.figure(2)\n",
    "ax2 = f2.add_subplot(111)\n",
    "ax2.plot(range(20), 'r-')\n",
    "zplt.title('Figure 2')"
   ]
  },
  {
   "cell_type": "markdown",
   "metadata": {},
   "source": [
    "The objects are special proxy types that are created on the fly by our simple RPC system."
   ]
  },
  {
   "cell_type": "code",
   "execution_count": 16,
   "metadata": {
    "collapsed": false
   },
   "outputs": [
    {
     "name": "stdout",
     "output_type": "stream",
     "text": [
      "<class 'zmpl.pyplot.Figure'>\n",
      "['_Figure__remove_ax', '__class__', '__delattr__', '__dict__', '__doc__', '__format__', '__getattribute__', '__hash__', '__init__', '__module__', '__new__', '__reduce__', '__reduce_ex__', '__repr__', '__setattr__', '__sizeof__', '__str__', '__subclasshook__', '__weakref__', '_axstack']\n"
     ]
    }
   ],
   "source": [
    "print(type(f1))\n",
    "print(dir(f1)[:20])"
   ]
  },
  {
   "cell_type": "code",
   "execution_count": 17,
   "metadata": {
    "collapsed": false
   },
   "outputs": [
    {
     "name": "stdout",
     "output_type": "stream",
     "text": [
      "<class 'zmpl.pyplot.AxesSubplot'>\n",
      "['__class__', '__delattr__', '__dict__', '__doc__', '__format__', '__getattribute__', '__hash__', '__init__', '__module__', '__new__', '__reduce__', '__reduce_ex__', '__repr__', '__setattr__', '__sizeof__', '__str__', '__subclasshook__', '__weakref__', '_add_text', u'_axes_class']\n"
     ]
    }
   ],
   "source": [
    "print(type(ax1))\n",
    "print(dir(ax1)[:20])"
   ]
  },
  {
   "cell_type": "code",
   "execution_count": null,
   "metadata": {
    "collapsed": true
   },
   "outputs": [],
   "source": []
  }
 ],
 "metadata": {
  "kernelspec": {
   "display_name": "Python 2",
   "language": "python",
   "name": "python2"
  },
  "language_info": {
   "codemirror_mode": {
    "name": "ipython",
    "version": 2
   },
   "file_extension": ".py",
   "mimetype": "text/x-python",
   "name": "python",
   "nbconvert_exporter": "python",
   "pygments_lexer": "ipython2",
   "version": "2.7.11"
  }
 },
 "nbformat": 4,
 "nbformat_minor": 0
}
